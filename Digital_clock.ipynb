{
 "cells": [
  {
   "cell_type": "code",
   "execution_count": 1,
   "id": "e392207b",
   "metadata": {},
   "outputs": [],
   "source": [
    "from tkinter import *\n",
    "from tkinter.ttk import *\n",
    "from time import strftime"
   ]
  },
  {
   "cell_type": "code",
   "execution_count": 2,
   "id": "79290145",
   "metadata": {},
   "outputs": [
    {
     "data": {
      "text/plain": [
       "''"
      ]
     },
     "execution_count": 2,
     "metadata": {},
     "output_type": "execute_result"
    }
   ],
   "source": [
    "root = Tk()\n",
    "root.title('Clock')"
   ]
  },
  {
   "cell_type": "code",
   "execution_count": 3,
   "id": "bdc3e07e",
   "metadata": {},
   "outputs": [],
   "source": [
    "def time():\n",
    "    string = strftime('%H:%M:%S %p')\n",
    "    lbl.config(text=string)\n",
    "    lbl.after(1000, time)"
   ]
  },
  {
   "cell_type": "code",
   "execution_count": 4,
   "id": "8d867f24",
   "metadata": {},
   "outputs": [],
   "source": [
    "lbl = Label(root, font=('calibri', 40, 'bold'),background='purple',foreground='white')"
   ]
  },
  {
   "cell_type": "code",
   "execution_count": 5,
   "id": "79d2f4fc",
   "metadata": {},
   "outputs": [],
   "source": [
    "lbl.pack(anchor='center')\n",
    "time()"
   ]
  },
  {
   "cell_type": "code",
   "execution_count": 6,
   "id": "950f9b05",
   "metadata": {},
   "outputs": [],
   "source": [
    "mainloop()"
   ]
  },
  {
   "cell_type": "code",
   "execution_count": null,
   "id": "3ce9c479",
   "metadata": {},
   "outputs": [],
   "source": []
  }
 ],
 "metadata": {
  "kernelspec": {
   "display_name": "Python 3 (ipykernel)",
   "language": "python",
   "name": "python3"
  },
  "language_info": {
   "codemirror_mode": {
    "name": "ipython",
    "version": 3
   },
   "file_extension": ".py",
   "mimetype": "text/x-python",
   "name": "python",
   "nbconvert_exporter": "python",
   "pygments_lexer": "ipython3",
   "version": "3.9.12"
  }
 },
 "nbformat": 4,
 "nbformat_minor": 5
}
